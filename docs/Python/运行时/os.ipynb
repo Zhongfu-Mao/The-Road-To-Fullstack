{
 "cells": [
  {
   "cell_type": "markdown",
   "metadata": {},
   "source": [
    "# os"
   ]
  },
  {
   "cell_type": "code",
   "execution_count": null,
   "metadata": {},
   "outputs": [],
   "source": [
    "import os\n",
    "\n",
    "os.listdir()\n",
    "path = os.getcwd()\n",
    "os.path.split(path)\n",
    "os.path.dirname(path)\n",
    "os.path.basename(path)\n",
    "os.path.splitext(path)\n",
    "os.path.expanduser(\"~\")\n",
    "os.path.abspath(\".\")\n",
    "os.path.abspath(\"..\")\n",
    "os.path.join(os.path.expanduser(\"~\"), \"GitHub\")\n",
    "os.path.isabs(\".\")\n",
    "os.path.isdir(\".\")\n",
    "os.path.isfile(\"my.cnf\")"
   ]
  },
  {
   "cell_type": "code",
   "execution_count": null,
   "metadata": {},
   "outputs": [],
   "source": [
    "import os\n",
    "import sys\n",
    "\n",
    "def main():\n",
    "    sys.argv.append(\"\")\n",
    "    filename = sys.argv[1]\n",
    "    if not os.path.isfile(filename):\n",
    "        raise SystemExit(filename + \" does not exists\")\n",
    "    elif not os.access(filename, os.R_OK):\n",
    "        os.chmod(filename, 0777)\n",
    "    else:\n",
    "        with open(filename) as f:\n",
    "            print(f.read())\n",
    "\n",
    "if __name__ == \"__main__\":\n",
    "    main()"
   ]
  }
 ],
 "metadata": {
  "kernelspec": {
   "display_name": "Python 3.8.6 64-bit",
   "metadata": {
    "interpreter": {
     "hash": "082e9a3bcad0a290d0001e938aa60b99250c6c2ef33a923c00b70f9826caf4b7"
    }
   },
   "name": "Python 3.8.6 64-bit"
  },
  "language_info": {
   "codemirror_mode": {
    "name": "ipython",
    "version": 3
   },
   "file_extension": ".py",
   "mimetype": "text/x-python",
   "name": "python",
   "nbconvert_exporter": "python",
   "pygments_lexer": "ipython3",
   "version": "3.8.6-final"
  },
  "orig_nbformat": 2
 },
 "nbformat": 4,
 "nbformat_minor": 2
}
