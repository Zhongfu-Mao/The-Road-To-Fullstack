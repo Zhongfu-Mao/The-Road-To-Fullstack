{
 "cells": [
  {
   "cell_type": "markdown",
   "metadata": {},
   "source": [
    "# shutil"
   ]
  },
  {
   "cell_type": "markdown",
   "metadata": {},
   "source": [
    "os模块是对操作系统的接口进行封装，主要作用是跨平台。  \n",
    "shutil模块包含复制、移动、重命名和删除文件及目录的函数，主要作用是管理文件和目录。"
   ]
  },
  {
   "cell_type": "code",
   "execution_count": null,
   "metadata": {},
   "outputs": [],
   "source": [
    "import shutil\n",
    "\n",
    "shutil.get_archive_formats()\n",
    "shutil.make_archive(\"backup\", \"gztar\")\n",
    "\n",
    "import tarfile\n",
    "\n",
    "f = tarfile.open(\"backup.tar.gz\", \"r:gz\")\n",
    "f.getnames()\n",
    "\n",
    "shutil.unpack_archive(\"backup.tar.gz\")"
   ]
  }
 ],
 "metadata": {
  "language_info": {
   "name": "python"
  },
  "orig_nbformat": 4
 },
 "nbformat": 4,
 "nbformat_minor": 2
}
