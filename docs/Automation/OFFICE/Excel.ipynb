{
 "cells": [
  {
   "cell_type": "markdown",
   "metadata": {},
   "source": [
    "# Excel相关"
   ]
  },
  {
   "cell_type": "markdown",
   "metadata": {},
   "source": [
    "## pandas"
   ]
  },
  {
   "cell_type": "markdown",
   "metadata": {},
   "source": [
    "## `read_excel()`"
   ]
  },
  {
   "cell_type": "code",
   "execution_count": null,
   "metadata": {},
   "outputs": [],
   "source": [
    "import pandas as pd\n",
    "\n",
    "pd.read_excel?"
   ]
  },
  {
   "cell_type": "markdown",
   "metadata": {},
   "source": [
    "* To read in all sheets, provide `sheet_name=None`\n",
    "* To handle NaN values, use a combination of `na_values` and `keep_default_na`."
   ]
  },
  {
   "cell_type": "markdown",
   "metadata": {},
   "source": [
    "### ExcelFile class"
   ]
  },
  {
   "cell_type": "code",
   "execution_count": null,
   "metadata": {},
   "outputs": [],
   "source": [
    "with pd.ExcelFile(\"xl/stores.xls\") as f:\n",
    "    df1 = pd.read_excel(f, \"2019\", skiprows=1, usecols=\"B:F\", nrows=2)\n",
    "    df2 = pd.read_excel(f, \"2020\", skiprows=1, usecols=\"B:F\", nrows=2)"
   ]
  },
  {
   "cell_type": "code",
   "execution_count": null,
   "metadata": {},
   "outputs": [],
   "source": [
    "stores = pd.ExcelFile(\"xl/stores.xlsx\")\n",
    "stores.sheet_names # 所有的sheet名"
   ]
  },
  {
   "cell_type": "markdown",
   "metadata": {},
   "source": [
    "### `to_excel()`"
   ]
  },
  {
   "cell_type": "code",
   "execution_count": null,
   "metadata": {},
   "outputs": [],
   "source": [
    "pd.DataFrame.to_excel?"
   ]
  },
  {
   "cell_type": "markdown",
   "metadata": {},
   "source": [
    "If you want to write multiple DataFrames to the same or different sheets, you will need to use the ExcelWriter class."
   ]
  },
  {
   "cell_type": "markdown",
   "metadata": {},
   "source": [
    "### ExcelWriter class"
   ]
  },
  {
   "cell_type": "code",
   "execution_count": null,
   "metadata": {},
   "outputs": [],
   "source": [
    "with pd.ExcelWriter(\"written_with_pandas2.xlsx\") as writer:\n",
    "    df.to_excel(writer, sheet_name=\"Sheet1\", startrow=1, startcol=1)\n",
    "    df.to_excel(writer, sheet_name=\"Sheet1\", startrow=10, startcol=1)\n",
    "    df.to_excel(writer, sheet_name=\"Sheet2\""
   ]
  },
  {
   "cell_type": "markdown",
   "metadata": {},
   "source": [
    "## openpyxl"
   ]
  },
  {
   "cell_type": "code",
   "execution_count": null,
   "metadata": {},
   "outputs": [],
   "source": [
    "import openpyxl\n",
    "from openpyxl.drawing.image import Image\n",
    "from openpyxl.chart import BarChart, Reference\n",
    "from openpyxl.styles import Font, colors\n",
    "from openpyxl.styles.borders import Border, Side\n",
    "from openpyxl.styles.alignment import Alignment\n",
    "from openpyxl.styles.fills import PatternFill"
   ]
  },
  {
   "cell_type": "code",
   "execution_count": null,
   "metadata": {},
   "outputs": [],
   "source": [
    "# Instantiate a workbook\n",
    "book = openpyxl.Workbook()\n",
    "\n",
    "# Get the first sheet and give it a name\n",
    "sheet = book.active\n",
    "sheet.title = \"Sheet1\"\n",
    "\n",
    "# Writing individual cells using A1 notation\n",
    "# and cell indices (1-based)\n",
    "sheet[\"A1\"].value = \"Hello 1\"\n",
    "sheet.cell(row=2, column=1, value=\"Hello 2\")\n",
    "\n",
    "# Formatting: fill color, alignment, border and font\n",
    "font_format = Font(color=\"FF0000\", bold=True)\n",
    "thin = Side(border_style=\"thin\", color=\"FF0000\")\n",
    "sheet[\"A3\"].value = \"Hello 3\"\n",
    "sheet[\"A3\"].font = font_format\n",
    "sheet[\"A3\"].border = Border(top=thin, left=thin,\n",
    "                            right=thin, bottom=thin)\n",
    "sheet[\"A3\"].alignment = Alignment(horizontal=\"center\")\n",
    "sheet[\"A3\"].fill = PatternFill(fgColor=\"FFFF00\", fill_type=\"solid\")\n",
    "\n",
    "# Number formatting (using Excel's formatting strings)\n",
    "sheet[\"A4\"].value = 3.3333\n",
    "sheet[\"A4\"].number_format = \"0.00\"\n",
    "\n",
    "# Date formatting (using Excel's formatting strings)\n",
    "sheet[\"A5\"].value = dt.date(2016, 10, 13)\n",
    "sheet[\"A5\"].number_format = \"mm/dd/yy\"\n",
    "\n",
    "# Formula: you must use the English name of the formula\n",
    "# with commas as delimiters\n",
    "sheet[\"A6\"].value = \"=SUM(A4, 2)\"\n",
    "\n",
    "# Image\n",
    "sheet.add_image(Image(\"images/python.png\"), \"C1\")\n",
    "\n",
    "# Two-dimensional list (we're using our excel module)\n",
    "data = [[None, \"North\", \"South\"],\n",
    "        [\"Last Year\", 2, 5],\n",
    "        [\"This Year\", 3, 6]]\n",
    "\n",
    "# Chart\n",
    "chart = BarChart()\n",
    "chart.type = \"col\"\n",
    "chart.title = \"Sales Per Region\"\n",
    "chart.x_axis.title = \"Regions\"\n",
    "chart.y_axis.title = \"Sales\"\n",
    "chart_data = Reference(sheet, min_row=11, min_col=1,\n",
    "                       max_row=12, max_col=3)\n",
    "chart_categories = Reference(sheet, min_row=10, min_col=2,\n",
    "                             max_row=10, max_col=3)\n",
    "# from_rows interprets the data in the same way\n",
    "# as if you would add a chart manually in Excel\n",
    "chart.add_data(chart_data, titles_from_data=True, from_rows=True)\n",
    "chart.set_categories(chart_categories)\n",
    "sheet.add_chart(chart, \"A15\")\n",
    "\n",
    "# Saving the workbook creates the file on disk\n",
    "book.save(\"openpyxl.xlsx\")"
   ]
  },
  {
   "cell_type": "markdown",
   "metadata": {},
   "source": [
    "## xlwings"
   ]
  },
  {
   "cell_type": "markdown",
   "metadata": {},
   "source": [
    "### インストール"
   ]
  },
  {
   "cell_type": "markdown",
   "metadata": {},
   "source": [
    "*pip*でインストールする場合は、最新版を\n",
    "```python\n",
    "pip install xlwings\n",
    "```"
   ]
  },
  {
   "cell_type": "markdown",
   "metadata": {},
   "source": [
    "*Anaconda*の場合は、`xlwings`は内蔵されているはず、最新版を体験したいなら、以下のコマンドを実行する\n",
    "```python\n",
    "conda install -c conda-forge xlwings\n",
    "```"
   ]
  },
  {
   "cell_type": "code",
   "execution_count": null,
   "metadata": {},
   "outputs": [],
   "source": [
    "import datetime as dt\n",
    "import sys\n",
    "\n",
    "import xlwings as xw\n",
    "import numpy as np\n",
    "import pandas as pd"
   ]
  },
  {
   "cell_type": "code",
   "execution_count": null,
   "metadata": {},
   "outputs": [],
   "source": [
    "# バージョン確認\n",
    "xw.__version__"
   ]
  },
  {
   "cell_type": "markdown",
   "metadata": {},
   "source": [
    "![オブジェクトの階層構造](https://upload-images.jianshu.io/upload_images/2979196-89d95b50b4a69d4f.png?imageMogr2/auto-orient/strip|imageView2/2/w/804)"
   ]
  },
  {
   "cell_type": "markdown",
   "metadata": {},
   "source": [
    "### `xw.view()`: Excel as viewer for tabular data"
   ]
  },
  {
   "cell_type": "code",
   "execution_count": null,
   "metadata": {},
   "outputs": [],
   "source": [
    "data = np.random.rand(100, 100)\n",
    "data"
   ]
  },
  {
   "cell_type": "code",
   "execution_count": null,
   "metadata": {},
   "outputs": [],
   "source": [
    "# Open a new book\n",
    "xw.view(data)"
   ]
  },
  {
   "cell_type": "code",
   "execution_count": null,
   "metadata": {},
   "outputs": [],
   "source": [
    "# Reuse an existing sheet(sheets gets cleared with every call)\n",
    "xw.view(np.random.rand(5, 5), xw.sheets.active)"
   ]
  },
  {
   "cell_type": "code",
   "execution_count": null,
   "metadata": {},
   "outputs": [],
   "source": [
    "xw.view(np.random.rand(3, 3), xw.sheets.active)"
   ]
  },
  {
   "cell_type": "markdown",
   "metadata": {},
   "source": [
    "### ブック接続"
   ]
  },
  {
   "cell_type": "code",
   "execution_count": null,
   "metadata": {},
   "outputs": [],
   "source": [
    "# 新規ブック\n",
    "wb1 = xw.Book()\n",
    "wb1 = xw.books.add()"
   ]
  },
  {
   "cell_type": "code",
   "execution_count": null,
   "metadata": {},
   "outputs": [],
   "source": [
    "# 保存されていないブック\n",
    "wb1 = xw.Book(\"Book1\")\n",
    "wb1 = xw.books[\"Book1\"]"
   ]
  },
  {
   "cell_type": "code",
   "execution_count": null,
   "metadata": {},
   "outputs": [],
   "source": [
    "# （完全な）名前でブックを指定\n",
    "wb1 = xw.Book(r\"C:\\Users\\XXX\\Desktop\\Myworkbook.xlsx\")\n",
    "wb1 = xw.books.open(r\"C:\\Users\\XXX\\Desktop\\Myworkbook.xlsx\")"
   ]
  },
  {
   "cell_type": "markdown",
   "metadata": {},
   "source": [
    "### The Range Object"
   ]
  },
  {
   "cell_type": "code",
   "execution_count": null,
   "metadata": {},
   "outputs": [],
   "source": [
    "sheet = xw.Book().sheets[0]"
   ]
  },
  {
   "cell_type": "code",
   "execution_count": null,
   "metadata": {},
   "outputs": [],
   "source": [
    "# Write Value\n",
    "sheet.range(\"A1\").value = \"hello xlwings!\""
   ]
  },
  {
   "cell_type": "code",
   "execution_count": null,
   "metadata": {},
   "outputs": [],
   "source": [
    "# Read value\n",
    "sheet.range(\"A1\").value"
   ]
  },
  {
   "cell_type": "code",
   "execution_count": null,
   "metadata": {},
   "outputs": [],
   "source": [
    "# Write the same value to multiple cells\n",
    "sheet.range(\"A3:B4\").value = 123"
   ]
  },
  {
   "cell_type": "code",
   "execution_count": null,
   "metadata": {},
   "outputs": [],
   "source": [
    "# Excel's numerical format is float\n",
    "sheet.range(\"A3\").value"
   ]
  },
  {
   "cell_type": "code",
   "execution_count": null,
   "metadata": {},
   "outputs": [],
   "source": [
    "# Datetime\n",
    "sheet.range(\"A6\") = dt.datetime(2020, 12, 25, 22, 22, 22)\n",
    "sheet.range(\"A6\").value"
   ]
  },
  {
   "cell_type": "code",
   "execution_count": null,
   "metadata": {},
   "outputs": [],
   "source": [
    "# Index natation (1-Based like Excel)\n",
    "sheet.range(1, 1).value = \"A1\"\n",
    "sheet.range((1, 1), (3, 3)).value = \"C3\""
   ]
  },
  {
   "cell_type": "markdown",
   "metadata": {},
   "source": [
    "インデックスの開始番号は、  \n",
    "* 丸括弧()ならExcelと同じく1から\n",
    "* 角括弧[]ならPythonと同じく0から（こちらはスライスも可）"
   ]
  },
  {
   "cell_type": "code",
   "execution_count": null,
   "metadata": {},
   "outputs": [],
   "source": [
    "# Formula\n",
    "sheet.range(\"B1\").formula = \"=SUM(A3:B4)\""
   ]
  },
  {
   "cell_type": "code",
   "execution_count": null,
   "metadata": {},
   "outputs": [],
   "source": [
    "# Named ranges\n",
    "sheet.range(\"B1\").name = \"test\"\n",
    "sheet.range(\"test\").formula"
   ]
  },
  {
   "cell_type": "code",
   "execution_count": null,
   "metadata": {},
   "outputs": [],
   "source": [
    "sheet.range(\"A1:H1\").font.name = \"微软雅黑\"\n",
    "sheet.range(\"A1:H1\").font.size = 10\n",
    "sheet.range(\"A1:H1\").font.bold = True\n",
    "sheet.range(\"A1:H1\").font.color = (255, 255, 255)"
   ]
  },
  {
   "cell_type": "code",
   "execution_count": null,
   "metadata": {},
   "outputs": [],
   "source": [
    "foo = sheet.range(\"test\").value\n",
    "foo"
   ]
  },
  {
   "cell_type": "code",
   "execution_count": null,
   "metadata": {},
   "outputs": [],
   "source": [
    "sheet.range(\"test\").value = \"Likethis\""
   ]
  },
  {
   "cell_type": "code",
   "execution_count": null,
   "metadata": {},
   "outputs": [],
   "source": [
    "# Numpy arrays\n",
    "sheet.range(\"A1\").value = np.eye(3)\n",
    "sheet.range(\"A1\").options(convert=np.array, expand=\"table\").value"
   ]
  },
  {
   "cell_type": "markdown",
   "metadata": {},
   "source": [
    "空のセルは None ではなく nan となります"
   ]
  },
  {
   "cell_type": "code",
   "execution_count": null,
   "metadata": {},
   "outputs": [],
   "source": [
    "# Pandas DataFrames\n",
    "df = pd.DataFrame([1.1, 2.2], [3.3, None], columns=[\"a\", \"b\"])\n",
    "sheet.range(\"A1\").value = df\n",
    "sheet.range(\"A1:C3\").options(pd.DataFrame).value\n",
    "\n",
    "sheet.range(\"A5\").options(index=False).value = df\n",
    "sheet.range(\"A9\").options(index=False, header=False).value = df"
   ]
  },
  {
   "cell_type": "code",
   "execution_count": null,
   "metadata": {},
   "outputs": [],
   "source": [
    "# Pandas Series\n",
    "s = pd.Series([1.1, 3.3, 5., np.nan, 6., 8.], name=\"myseries\")\n",
    "\n",
    "sheet.range(\"A1\").value=s\n",
    "sheet.range(\"A1:B7\").options(pd.Series).value"
   ]
  },
  {
   "cell_type": "markdown",
   "metadata": {},
   "source": [
    "リストやNumPy arrayやPandas DataFrameをExcelに書き込むには、左上セルを指定するだけで済みます。\n",
    "\n",
    "例: \n",
    "```python\n",
    "sheet.range('A1').value = np.eye(10)\n",
    "```"
   ]
  },
  {
   "cell_type": "markdown",
   "metadata": {},
   "source": [
    "### 2d Ranges"
   ]
  },
  {
   "cell_type": "code",
   "execution_count": null,
   "metadata": {},
   "outputs": [],
   "source": [
    "sheet.range(\"A3:B4\").value"
   ]
  },
  {
   "cell_type": "code",
   "execution_count": null,
   "metadata": {},
   "outputs": [],
   "source": [
    "# Index notation\n",
    "sheet.range((3, 1), (4, 2)).value"
   ]
  },
  {
   "cell_type": "code",
   "execution_count": null,
   "metadata": {},
   "outputs": [],
   "source": [
    "# Assign a nested list to the top-left corner\n",
    "sheet.range(\"A9\").value = [[\"a string\", 1, 2, 3],\n",
    "                           [dt.date(2021, 1, 1), 123.5, None, None]]"
   ]
  },
  {
   "cell_type": "code",
   "execution_count": null,
   "metadata": {},
   "outputs": [],
   "source": [
    "# Range expansion: \"table\", \"down\", \"right\"\n",
    "# Correspond to Ctrl+Shift+Down and/or right\n",
    "# They return a Range object!\n",
    "area = sheet.range(\"A9\").expand(\"table\")\n",
    "area.column_width = 15\n",
    "area.row_height = 20"
   ]
  },
  {
   "cell_type": "code",
   "execution_count": null,
   "metadata": {},
   "outputs": [],
   "source": [
    "# \"table\" is default\n",
    "sheet.range(\"A9\").expand.value"
   ]
  },
  {
   "cell_type": "code",
   "execution_count": null,
   "metadata": {},
   "outputs": [],
   "source": [
    "# Use .clear to also clear the formatting\n",
    "sheet.range(\"A9\").expand().clear_contents()"
   ]
  },
  {
   "cell_type": "markdown",
   "metadata": {},
   "source": [
    "### 1d vectors"
   ]
  },
  {
   "cell_type": "code",
   "execution_count": null,
   "metadata": {},
   "outputs": [],
   "source": [
    "# Horizontal\n",
    "sheet.range(\"A12\").value = [1, 2, 3, 4]"
   ]
  },
  {
   "cell_type": "code",
   "execution_count": null,
   "metadata": {},
   "outputs": [],
   "source": [
    "# Vertical\n",
    "sheet.range(\"A13\").options(transpose=True).value = [5, 6, 7, 8]\n",
    "# this is the same as:\n",
    "# sheet.range(\"A13\").value = [[5], [6], [7], [8]]"
   ]
  },
  {
   "cell_type": "code",
   "execution_count": null,
   "metadata": {},
   "outputs": [],
   "source": [
    "sheet.range(\"A12\").expand(\"right\").value"
   ]
  },
  {
   "cell_type": "code",
   "execution_count": null,
   "metadata": {},
   "outputs": [],
   "source": [
    "sheet.range(\"A12\").expand(\"down\").value"
   ]
  },
  {
   "cell_type": "markdown",
   "metadata": {},
   "source": [
    "### ndim"
   ]
  },
  {
   "cell_type": "code",
   "execution_count": null,
   "metadata": {},
   "outputs": [],
   "source": [
    "sheet.range(\"A1\").options(ndim=1).value"
   ]
  },
  {
   "cell_type": "code",
   "execution_count": null,
   "metadata": {},
   "outputs": [],
   "source": [
    "sheet.range(\"A12\").options(ndim=2, expand=\"right\").value"
   ]
  },
  {
   "cell_type": "code",
   "execution_count": null,
   "metadata": {},
   "outputs": [],
   "source": [
    "sheet.range(\"A12\").options(ndim=2, expand=\"down\").value"
   ]
  },
  {
   "cell_type": "markdown",
   "metadata": {},
   "source": [
    "### Autofit"
   ]
  },
  {
   "cell_type": "code",
   "execution_count": null,
   "metadata": {},
   "outputs": [],
   "source": [
    "# autofit columns and rows based on a single cell\n",
    "sheet.range(\"A3\").autofit()"
   ]
  },
  {
   "cell_type": "code",
   "execution_count": null,
   "metadata": {},
   "outputs": [],
   "source": [
    "# autofit columns based on range\n",
    "sheet.range(\"A1:C3\").columns.autofit()"
   ]
  },
  {
   "cell_type": "code",
   "execution_count": null,
   "metadata": {},
   "outputs": [],
   "source": [
    "# autofit a whole column\n",
    "sheet.range(\"A:A\").autofit()"
   ]
  },
  {
   "cell_type": "markdown",
   "metadata": {},
   "source": [
    "### API"
   ]
  },
  {
   "cell_type": "code",
   "execution_count": null,
   "metadata": {},
   "outputs": [],
   "source": [
    "import xlwings as xw\n",
    "\n",
    "app = xw.App(visible=False, add_book=False)\n",
    "workbook = app.books.open(\"filepath.xlsx\", password=\"123\")\n",
    "worksheets = workbook.sheets\n",
    "# api调用\n",
    "workbook.save()\n",
    "workbook.close()\n",
    "app.quit()"
   ]
  },
  {
   "cell_type": "markdown",
   "metadata": {},
   "source": [
    "#### Protect(), Unprotect()"
   ]
  },
  {
   "cell_type": "code",
   "execution_count": 5,
   "metadata": {},
   "outputs": [],
   "source": [
    "workbook.api.Protect(Password=\"123\", Structure=True, Windows=True)"
   ]
  },
  {
   "cell_type": "markdown",
   "metadata": {},
   "source": [
    "#### Password"
   ]
  },
  {
   "cell_type": "code",
   "execution_count": null,
   "metadata": {},
   "outputs": [],
   "source": [
    "workbook.api.Password = \"password\""
   ]
  },
  {
   "cell_type": "markdown",
   "metadata": {},
   "source": [
    "#### Tab.Color"
   ]
  },
  {
   "cell_type": "code",
   "execution_count": null,
   "metadata": {},
   "outputs": [],
   "source": [
    "worksheets[0].api.Tab.Color = 255\n",
    "# Color属性整数值 = R + G * 256 + B * 256 * 256"
   ]
  },
  {
   "cell_type": "markdown",
   "metadata": {},
   "source": [
    "### Background color"
   ]
  },
  {
   "cell_type": "code",
   "execution_count": null,
   "metadata": {},
   "outputs": [],
   "source": [
    "# Assign an RGB value\n",
    "sheet.range(\"A1\").color = (0, 255, 0)\n",
    "sheet.range(\"A1\").color"
   ]
  },
  {
   "cell_type": "markdown",
   "metadata": {},
   "source": [
    "### Range indexing/slicing"
   ]
  },
  {
   "cell_type": "code",
   "execution_count": null,
   "metadata": {},
   "outputs": [],
   "source": [
    "rng = sheet.range(\"A1:D5\")\n",
    "rng[0, 0]"
   ]
  },
  {
   "cell_type": "code",
   "execution_count": null,
   "metadata": {},
   "outputs": [],
   "source": [
    "rng[1]"
   ]
  },
  {
   "cell_type": "code",
   "execution_count": null,
   "metadata": {},
   "outputs": [],
   "source": [
    "rng[:, 3:]"
   ]
  },
  {
   "cell_type": "code",
   "execution_count": null,
   "metadata": {},
   "outputs": [],
   "source": [
    "rng[1:3, 1:3]"
   ]
  },
  {
   "cell_type": "code",
   "execution_count": null,
   "metadata": {},
   "outputs": [],
   "source": [
    "xw.books.active.close()"
   ]
  },
  {
   "cell_type": "markdown",
   "metadata": {},
   "source": [
    "### Full qualification"
   ]
  },
  {
   "cell_type": "code",
   "execution_count": null,
   "metadata": {},
   "outputs": [],
   "source": [
    "# Get all available PIDs (Process IDs)\n",
    "xw.apps.keys()"
   ]
  },
  {
   "cell_type": "code",
   "execution_count": null,
   "metadata": {},
   "outputs": [],
   "source": [
    "# This allows us to specify a specific Excel instance\n",
    "pid = xw.apps.keys()[0] # or xw.apps.active.pid"
   ]
  },
  {
   "cell_type": "code",
   "execution_count": null,
   "metadata": {},
   "outputs": [],
   "source": [
    "xw.apps[pid].books[0].sheets[0].range(\"A1\")"
   ]
  },
  {
   "cell_type": "code",
   "execution_count": null,
   "metadata": {},
   "outputs": [],
   "source": [
    "xw.apps(pid).books(1).sheets(1).range(\"A1\")"
   ]
  },
  {
   "cell_type": "code",
   "execution_count": null,
   "metadata": {},
   "outputs": [],
   "source": [
    "# Instead of indices we can also use names\n",
    "xw.apps[pid].books[\"Book1\"].sheets[\"Sheet1\"].range(\"A1\")\n",
    "xw.apps(pid).books(\"Book1\").sheets(\"Sheet1\").range(\"A1\")"
   ]
  },
  {
   "cell_type": "markdown",
   "metadata": {},
   "source": [
    "### work with multiple apps"
   ]
  },
  {
   "cell_type": "code",
   "execution_count": null,
   "metadata": {},
   "outputs": [],
   "source": [
    "app1 = xw.apps[pid]\n",
    "app2 = xw.App()"
   ]
  },
  {
   "cell_type": "code",
   "execution_count": null,
   "metadata": {},
   "outputs": [],
   "source": [
    "# Open the same workbook twice in different Excel instances\n",
    "app1.books.open(\"foo.xlsx\")\n",
    "app2.books.open(\"foo.xlsx\")"
   ]
  },
  {
   "cell_type": "code",
   "execution_count": null,
   "metadata": {},
   "outputs": [],
   "source": [
    "# this will throw an error\n",
    "# xw.Book(\"foo.xlsx\")"
   ]
  },
  {
   "cell_type": "code",
   "execution_count": null,
   "metadata": {},
   "outputs": [],
   "source": [
    "# The following syntax is required\n",
    "# if the same file is opened in more than 1 instance\n",
    "print(app1.books[\"foo.xlsm\"])\n",
    "print(app2.books[\"foo.xlsm\"])\n",
    "print(app1.books[\"foo.xlsm\"].app)\n",
    "print(app1.books[\"foo.xlsm\"].app)"
   ]
  },
  {
   "cell_type": "markdown",
   "metadata": {},
   "source": [
    "### Active Objects"
   ]
  },
  {
   "cell_type": "code",
   "execution_count": null,
   "metadata": {},
   "outputs": [],
   "source": [
    "# Active app\n",
    "xw.apps.active"
   ]
  },
  {
   "cell_type": "code",
   "execution_count": null,
   "metadata": {},
   "outputs": [],
   "source": [
    "# active book in active app\n",
    "xw.books.active"
   ]
  },
  {
   "cell_type": "code",
   "execution_count": null,
   "metadata": {},
   "outputs": [],
   "source": [
    "# active sheet in active book in active app\n",
    "xw.sheets.active"
   ]
  },
  {
   "cell_type": "code",
   "execution_count": null,
   "metadata": {},
   "outputs": [],
   "source": [
    "# This is a special shortcut for interactive use only\n",
    "# It takes the active sheet form the active book\n",
    "xw.Range(\"A1\").value"
   ]
  },
  {
   "cell_type": "code",
   "execution_count": null,
   "metadata": {},
   "outputs": [],
   "source": [
    "app2.kill()"
   ]
  },
  {
   "cell_type": "markdown",
   "metadata": {},
   "source": [
    "### Sheets"
   ]
  },
  {
   "cell_type": "code",
   "execution_count": null,
   "metadata": {},
   "outputs": [],
   "source": [
    "xw.sheets[0].name"
   ]
  },
  {
   "cell_type": "code",
   "execution_count": null,
   "metadata": {},
   "outputs": [],
   "source": [
    "xw.sheets.count # same as len(xw.sheets)"
   ]
  },
  {
   "cell_type": "code",
   "execution_count": null,
   "metadata": {},
   "outputs": [],
   "source": [
    "xw.sheets.add(name=\"New Sheet By xlwings\", after=\"Sheet1\")"
   ]
  },
  {
   "cell_type": "code",
   "execution_count": null,
   "metadata": {},
   "outputs": [],
   "source": [
    "sheet = xw.sheets[0]\n",
    "sheet[\"A1\"]"
   ]
  },
  {
   "cell_type": "code",
   "execution_count": null,
   "metadata": {},
   "outputs": [],
   "source": [
    "sheet[\"A1:B5\"]"
   ]
  },
  {
   "cell_type": "code",
   "execution_count": null,
   "metadata": {},
   "outputs": [],
   "source": [
    "sheet[0, 1]"
   ]
  },
  {
   "cell_type": "code",
   "execution_count": null,
   "metadata": {},
   "outputs": [],
   "source": [
    "sheet[:10, :10]"
   ]
  },
  {
   "cell_type": "code",
   "execution_count": null,
   "metadata": {},
   "outputs": [],
   "source": [
    "sheet.delete()"
   ]
  },
  {
   "cell_type": "code",
   "execution_count": null,
   "metadata": {},
   "outputs": [],
   "source": [
    "sheet.name = \"new name\""
   ]
  },
  {
   "cell_type": "code",
   "execution_count": null,
   "metadata": {},
   "outputs": [],
   "source": [
    "sheet.copy(before=sheets[1])"
   ]
  },
  {
   "cell_type": "code",
   "execution_count": null,
   "metadata": {},
   "outputs": [],
   "source": [
    "sheet.visible = False"
   ]
  },
  {
   "cell_type": "code",
   "execution_count": null,
   "metadata": {},
   "outputs": [],
   "source": [
    "sheet.autofit() # 自动调整工作表的行高和列宽"
   ]
  },
  {
   "cell_type": "code",
   "execution_count": null,
   "metadata": {},
   "outputs": [],
   "source": [
    "sheet.max_row"
   ]
  },
  {
   "cell_type": "code",
   "execution_count": null,
   "metadata": {},
   "outputs": [],
   "source": [
    "sheet.insert_rows(5, 1)\n",
    "sheet.insert_cols(5, 1)\n",
    "\n",
    "sheet.delete_rows(5, 2)\n",
    "sheet.delete_cols(5, 2)"
   ]
  },
  {
   "cell_type": "code",
   "execution_count": null,
   "metadata": {},
   "outputs": [],
   "source": [
    "sheet.freeze_panes = \"B2\" # 把单元格B2上方的行及左侧的列冻结"
   ]
  },
  {
   "cell_type": "markdown",
   "metadata": {},
   "source": [
    "### Charts"
   ]
  },
  {
   "cell_type": "code",
   "execution_count": null,
   "metadata": {},
   "outputs": [],
   "source": [
    "wb = xw.Book()\n",
    "sheet = wb.sheets[0]\n",
    "sheet.range(\"A1\").value = [[\"one\", \"two\"],\n",
    "                           [1.1, 2.2],\n",
    "                           [3.3, None]]"
   ]
  },
  {
   "cell_type": "code",
   "execution_count": null,
   "metadata": {},
   "outputs": [],
   "source": [
    "chart = sheet.charts.add()\n",
    "chart.set_source_data(sheet.range(\"A1\").expand())\n",
    "chart.chart_type = \"line\"\n",
    "chart.top = sheet.range(\"A5\").top"
   ]
  },
  {
   "cell_type": "code",
   "execution_count": null,
   "metadata": {},
   "outputs": [],
   "source": [
    "chart.chart_type = \"area\""
   ]
  },
  {
   "cell_type": "code",
   "execution_count": null,
   "metadata": {},
   "outputs": [],
   "source": [
    "xw.constants.chart_types"
   ]
  },
  {
   "cell_type": "code",
   "execution_count": null,
   "metadata": {},
   "outputs": [],
   "source": [
    "wb.close()"
   ]
  },
  {
   "cell_type": "markdown",
   "metadata": {},
   "source": [
    "### Matplotlib"
   ]
  },
  {
   "cell_type": "code",
   "execution_count": null,
   "metadata": {},
   "outputs": [],
   "source": [
    "% matplotlib inline\n",
    "from scipy.interpolate import interp1d\n",
    "import matplotlib as mpl\n",
    "import matplotlib.pyplot as plt"
   ]
  },
  {
   "cell_type": "code",
   "execution_count": null,
   "metadata": {},
   "outputs": [],
   "source": [
    "years = [1, 2, 3, 4, 5, 7, 10, 30]\n",
    "swap_rate = np.random.rand(8)\n",
    "years_new = np.linspace(1, 30, num=30)\n",
    "interpolate = interp1d(years, swap_rate, kind=\"quadratic\")"
   ]
  },
  {
   "cell_type": "code",
   "execution_count": null,
   "metadata": {},
   "outputs": [],
   "source": [
    "fig = plt.figure(figsize=(6, 4))\n",
    "swap_rate_plot = plt.plot(years, swap_rate, \"o\",\n",
    "                          years_new, interpolate(years_new),                            \"-\")"
   ]
  },
  {
   "cell_type": "code",
   "execution_count": null,
   "metadata": {},
   "outputs": [],
   "source": [
    "wb = xw.Book()\n",
    "sheet = wb.sheets[0]"
   ]
  },
  {
   "cell_type": "code",
   "execution_count": null,
   "metadata": {},
   "outputs": [],
   "source": [
    "plot = sheet.pictures.add(fig, name=\"SwapRate\", update=True)"
   ]
  },
  {
   "cell_type": "code",
   "execution_count": null,
   "metadata": {},
   "outputs": [],
   "source": [
    "width, height = fig.get_size_inches()\n",
    "dpi = fig.get_dpi()\n",
    "sheet.pictures.add(fig, name=\"SwapRate2\", update=True,\n",
    "                   left=sheet.range(\"A25\").left, top=sheet.range(\"A25\"),\n",
    "                   width=width * dpi / 2, height=height * dpi / 2)"
   ]
  },
  {
   "cell_type": "code",
   "execution_count": null,
   "metadata": {},
   "outputs": [],
   "source": [
    "plot.height = plt.height / 2\n",
    "plot.width = plot.width / 2"
   ]
  },
  {
   "cell_type": "code",
   "execution_count": null,
   "metadata": {},
   "outputs": [],
   "source": [
    "wb.close()"
   ]
  },
  {
   "cell_type": "markdown",
   "metadata": {},
   "source": [
    "### Table objects"
   ]
  },
  {
   "cell_type": "code",
   "execution_count": null,
   "metadata": {},
   "outputs": [],
   "source": [
    "wb = xw.Book(\"foo.xlsx\")\n",
    "sheet = wb.sheets[0]"
   ]
  },
  {
   "cell_type": "code",
   "execution_count": null,
   "metadata": {},
   "outputs": [],
   "source": [
    "sheet.range(\"Table1\").value"
   ]
  },
  {
   "cell_type": "code",
   "execution_count": null,
   "metadata": {},
   "outputs": [],
   "source": [
    "sheet.range(\"Table1[Symbol]\").value"
   ]
  },
  {
   "cell_type": "code",
   "execution_count": null,
   "metadata": {},
   "outputs": [],
   "source": [
    "sheet.range(\"Table1[#All], [Last]]\").value"
   ]
  },
  {
   "cell_type": "code",
   "execution_count": null,
   "metadata": {},
   "outputs": [],
   "source": [
    "sheet.range(\"Table1[[#Headers], [Last]]\").value"
   ]
  },
  {
   "cell_type": "code",
   "execution_count": null,
   "metadata": {},
   "outputs": [],
   "source": [
    "sheet.range(\"Table1[[#Totals], [Last]]\").value"
   ]
  },
  {
   "cell_type": "code",
   "execution_count": null,
   "metadata": {},
   "outputs": [],
   "source": [
    "sheet.range(\"Table1[[Index]:[Last]]\").value"
   ]
  },
  {
   "cell_type": "code",
   "execution_count": null,
   "metadata": {},
   "outputs": [],
   "source": [
    "wb.close()"
   ]
  },
  {
   "cell_type": "markdown",
   "metadata": {},
   "source": [
    "### Efficiency"
   ]
  },
  {
   "cell_type": "code",
   "execution_count": null,
   "metadata": {},
   "outputs": [],
   "source": [
    "wb = xw.Book()\n",
    "sheet = wb.sheets[0]"
   ]
  },
  {
   "cell_type": "code",
   "execution_count": null,
   "metadata": {},
   "outputs": [],
   "source": [
    "sheet.range(\"A1\").value = np.arange(5 * 30).reshape((30, 5))"
   ]
  },
  {
   "cell_type": "code",
   "execution_count": null,
   "metadata": {},
   "outputs": [],
   "source": [
    "wb.close()"
   ]
  },
  {
   "cell_type": "markdown",
   "metadata": {},
   "source": [
    "### Work around for missing features: Manipulate the underlying object"
   ]
  },
  {
   "cell_type": "code",
   "execution_count": null,
   "metadata": {},
   "outputs": [],
   "source": [
    "wb = xw.Book()\n",
    "sheet = wb.sheets[0]"
   ]
  },
  {
   "cell_type": "code",
   "execution_count": null,
   "metadata": {},
   "outputs": [],
   "source": [
    "# On windows, the underlying object is a pywin32 COM object\n",
    "# On Mac, it is an appscript object\n",
    "sheet.range(\"A1\").api"
   ]
  },
  {
   "cell_type": "code",
   "execution_count": null,
   "metadata": {},
   "outputs": [],
   "source": [
    "if sys.platform.startswith(\"darwin\"):\n",
    "    sheet.range(\"A10\").api.clear_formats()\n",
    "elif sys.platform.startswith(\"win\"):\n",
    "    sheet.range(\"A10\").api.ClearFormats()"
   ]
  },
  {
   "cell_type": "markdown",
   "metadata": {},
   "source": [
    "### UDFs: ユーザー定義関数 (Windowsのみ)"
   ]
  },
  {
   "cell_type": "code",
   "execution_count": null,
   "metadata": {},
   "outputs": [],
   "source": [
    "@xw.func\n",
    "def hello(name):\n",
    "    return f\"Hello {name}\""
   ]
  },
  {
   "cell_type": "code",
   "execution_count": null,
   "metadata": {},
   "outputs": [],
   "source": [
    "@xw.func\n",
    "@xw.arg(\"x\", pd.DataFrame)\n",
    "def correl2(x):\n",
    "    retrun x.corr()"
   ]
  }
 ],
 "metadata": {
  "interpreter": {
   "hash": "082e9a3bcad0a290d0001e938aa60b99250c6c2ef33a923c00b70f9826caf4b7"
  },
  "kernelspec": {
   "display_name": "Python 3.8.6 64-bit",
   "name": "python3"
  },
  "language_info": {
   "codemirror_mode": {
    "name": "ipython",
    "version": 3
   },
   "file_extension": ".py",
   "mimetype": "text/x-python",
   "name": "python",
   "nbconvert_exporter": "python",
   "pygments_lexer": "ipython3",
   "version": "3.8.6"
  },
  "orig_nbformat": 2
 },
 "nbformat": 4,
 "nbformat_minor": 2
}
